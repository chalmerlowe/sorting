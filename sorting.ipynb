{
 "cells": [
  {
   "cell_type": "markdown",
   "metadata": {},
   "source": [
    "# Sorting in a nutshell"
   ]
  },
  {
   "cell_type": "markdown",
   "metadata": {},
   "source": [
    "This is based heavily on the Python Wiki HowTo on Sorting.\n",
    "There is additional explanatory material to be found there, as well as several other examples.\n",
    "https://wiki.python.org/moin/HowTo/Sorting\n",
    "The source material and this material are distributed under a GPL license."
   ]
  },
  {
   "cell_type": "code",
   "execution_count": 1,
   "metadata": {
    "collapsed": false
   },
   "outputs": [
    {
     "data": {
      "text/plain": [
       "[29, 31, 32, 33, 35, 42]"
      ]
     },
     "execution_count": 1,
     "metadata": {},
     "output_type": "execute_result"
    }
   ],
   "source": [
    "ages = [33, 32, 35, 31, 29, 42]\n",
    "sorted(ages)"
   ]
  },
  {
   "cell_type": "code",
   "execution_count": 2,
   "metadata": {
    "collapsed": false
   },
   "outputs": [
    {
     "data": {
      "text/plain": [
       "[33, 32, 35, 31, 29, 42]"
      ]
     },
     "execution_count": 2,
     "metadata": {},
     "output_type": "execute_result"
    }
   ],
   "source": [
    "ages                      # the list is not changed"
   ]
  },
  {
   "cell_type": "code",
   "execution_count": 3,
   "metadata": {
    "collapsed": true
   },
   "outputs": [],
   "source": [
    "ages.sort()               # lists have a method, called L.sort()\n",
    "                          # the list is changed in place\n",
    "                          # returns None"
   ]
  },
  {
   "cell_type": "code",
   "execution_count": 4,
   "metadata": {
    "collapsed": false
   },
   "outputs": [
    {
     "data": {
      "text/plain": [
       "[29, 31, 32, 33, 35, 42]"
      ]
     },
     "execution_count": 4,
     "metadata": {},
     "output_type": "execute_result"
    }
   ],
   "source": [
    "ages"
   ]
  },
  {
   "cell_type": "code",
   "execution_count": 6,
   "metadata": {
    "collapsed": false
   },
   "outputs": [
    {
     "data": {
      "text/plain": [
       "[1, 2, 3, 4, 5]"
      ]
     },
     "execution_count": 6,
     "metadata": {},
     "output_type": "execute_result"
    }
   ],
   "source": [
    "greek = {1: 'Alpha',\n",
    "         4: 'Delta',\n",
    "         3: 'Gamma',\n",
    "         2: 'Bravo',\n",
    "         5: 'Epsilon'}\n",
    "\n",
    "sorted(greek)             # Any iterable can be sorted\n",
    "                          # in this case, the dictionary is\n",
    "                          # sorted by key"
   ]
  },
  {
   "cell_type": "markdown",
   "metadata": {},
   "source": [
    "# The key to real magic"
   ]
  },
  {
   "cell_type": "code",
   "execution_count": 10,
   "metadata": {
    "collapsed": false
   },
   "outputs": [
    {
     "data": {
      "text/plain": [
       "['A', 'C', 'E', 'b', 'd']"
      ]
     },
     "execution_count": 10,
     "metadata": {},
     "output_type": "execute_result"
    }
   ],
   "source": [
    "letters = ['E', 'A', 'C', 'b', 'd']\n",
    "\n",
    "sorted(letters)"
   ]
  },
  {
   "cell_type": "code",
   "execution_count": 11,
   "metadata": {
    "collapsed": false
   },
   "outputs": [
    {
     "data": {
      "text/plain": [
       "['A', 'b', 'C', 'd', 'E']"
      ]
     },
     "execution_count": 11,
     "metadata": {},
     "output_type": "execute_result"
    }
   ],
   "source": [
    "sorted(letters, key=str.upper)"
   ]
  },
  {
   "cell_type": "code",
   "execution_count": 76,
   "metadata": {
    "collapsed": true
   },
   "outputs": [],
   "source": [
    "heroes = [('batman', 'bruce',  'wayne', 1972),\n",
    "          ('wonder woman', 'diana', 'prince', 1974), \n",
    "          ('martian manhunter', 'john', 'jones', 1972),\n",
    "          ('hellblazer', 'john', 'constantine', 1975)]"
   ]
  },
  {
   "cell_type": "code",
   "execution_count": 77,
   "metadata": {
    "collapsed": false
   },
   "outputs": [
    {
     "data": {
      "text/plain": [
       "[('batman', 'bruce', 'wayne', 1972),\n",
       " ('hellblazer', 'john', 'constantine', 1975),\n",
       " ('martian manhunter', 'john', 'jones', 1972),\n",
       " ('wonder woman', 'diana', 'prince', 1974)]"
      ]
     },
     "execution_count": 77,
     "metadata": {},
     "output_type": "execute_result"
    }
   ],
   "source": [
    "sorted(heroes)"
   ]
  },
  {
   "cell_type": "code",
   "execution_count": 78,
   "metadata": {
    "collapsed": false
   },
   "outputs": [
    {
     "data": {
      "text/plain": [
       "[('batman', 'bruce', 'wayne', 1972),\n",
       " ('wonder woman', 'diana', 'prince', 1974),\n",
       " ('martian manhunter', 'john', 'jones', 1972),\n",
       " ('hellblazer', 'john', 'constantine', 1975)]"
      ]
     },
     "execution_count": 78,
     "metadata": {},
     "output_type": "execute_result"
    }
   ],
   "source": [
    "# any function can be used as the key\n",
    "# provided it takes a single argument\n",
    "# AND\n",
    "# it returns a key that can be used for sorting purposes\n",
    "\n",
    "def fname(hero):\n",
    "    return hero[1]\n",
    "\n",
    "sorted(heroes, key=fname)\n",
    "\n",
    "# Stable sort"
   ]
  },
  {
   "cell_type": "code",
   "execution_count": 79,
   "metadata": {
    "collapsed": false
   },
   "outputs": [
    {
     "data": {
      "text/plain": [
       "[('batman', 'bruce', 'wayne', 1972),\n",
       " ('wonder woman', 'diana', 'prince', 1974),\n",
       " ('martian manhunter', 'john', 'jones', 1972),\n",
       " ('hellblazer', 'john', 'constantine', 1975)]"
      ]
     },
     "execution_count": 79,
     "metadata": {},
     "output_type": "execute_result"
    }
   ],
   "source": [
    "# lambdas are great for use in this case\n",
    "\n",
    "sorted(heroes, key=lambda hero: hero[1])"
   ]
  },
  {
   "cell_type": "code",
   "execution_count": 80,
   "metadata": {
    "collapsed": false
   },
   "outputs": [],
   "source": [
    "class Hero:\n",
    "    def __init__(self, name, fname, lname, birthyear):\n",
    "        self.name = name\n",
    "        self.fname = fname\n",
    "        self.lname = lname\n",
    "        self.birthyear = birthyear\n",
    "    def __repr__(self):\n",
    "        return repr((self.name, self.fname, self.lname, self.birthyear))\n",
    "    def age(self):\n",
    "        current_year = 2017\n",
    "        return current_year - self.birthyear"
   ]
  },
  {
   "cell_type": "code",
   "execution_count": 81,
   "metadata": {
    "collapsed": false
   },
   "outputs": [
    {
     "data": {
      "text/plain": [
       "('batman', 'bruce', 'wayne', 1972)"
      ]
     },
     "execution_count": 81,
     "metadata": {},
     "output_type": "execute_result"
    }
   ],
   "source": [
    "h = Hero('batman', 'bruce', 'wayne', 1972)\n",
    "h"
   ]
  },
  {
   "cell_type": "code",
   "execution_count": 82,
   "metadata": {
    "collapsed": false
   },
   "outputs": [
    {
     "data": {
      "text/plain": [
       "45"
      ]
     },
     "execution_count": 82,
     "metadata": {},
     "output_type": "execute_result"
    }
   ],
   "source": [
    "h.age()"
   ]
  },
  {
   "cell_type": "code",
   "execution_count": 83,
   "metadata": {
    "collapsed": false
   },
   "outputs": [],
   "source": [
    "hero_classes = [Hero('batman', 'bruce',  'wayne', 1972),\n",
    "                Hero('wonder woman', 'diana', 'prince', 1974), \n",
    "                Hero('martian manhunter', 'john', 'jones', 1972),\n",
    "                Hero('hellblazer', 'john', 'constantine', 1975)]"
   ]
  },
  {
   "cell_type": "code",
   "execution_count": 84,
   "metadata": {
    "collapsed": false
   },
   "outputs": [
    {
     "data": {
      "text/plain": [
       "[('batman', 'bruce', 'wayne', 1972),\n",
       " ('martian manhunter', 'john', 'jones', 1972),\n",
       " ('wonder woman', 'diana', 'prince', 1974),\n",
       " ('hellblazer', 'john', 'constantine', 1975)]"
      ]
     },
     "execution_count": 84,
     "metadata": {},
     "output_type": "execute_result"
    }
   ],
   "source": [
    "sorted(hero_classes, key=lambda hero: hero.birthyear)"
   ]
  },
  {
   "cell_type": "code",
   "execution_count": 86,
   "metadata": {
    "collapsed": false
   },
   "outputs": [
    {
     "data": {
      "text/plain": [
       "[('batman', 'bruce', 'wayne', 1972),\n",
       " ('wonder woman', 'diana', 'prince', 1974),\n",
       " ('martian manhunter', 'john', 'jones', 1972),\n",
       " ('hellblazer', 'john', 'constantine', 1975)]"
      ]
     },
     "execution_count": 86,
     "metadata": {},
     "output_type": "execute_result"
    }
   ],
   "source": [
    "from operator import itemgetter\n",
    "\n",
    "# for this case, we will re-use the heroes list that \n",
    "# contained tuples to sort by the elements with index\n",
    "# one in each tuple, in this case, the heroes' real name\n",
    "\n",
    "sorted(heroes, key=itemgetter(1))"
   ]
  },
  {
   "cell_type": "code",
   "execution_count": 87,
   "metadata": {
    "collapsed": false
   },
   "outputs": [
    {
     "data": {
      "text/plain": [
       "[('batman', 'bruce', 'wayne', 1972),\n",
       " ('martian manhunter', 'john', 'jones', 1972),\n",
       " ('wonder woman', 'diana', 'prince', 1974),\n",
       " ('hellblazer', 'john', 'constantine', 1975)]"
      ]
     },
     "execution_count": 87,
     "metadata": {},
     "output_type": "execute_result"
    }
   ],
   "source": [
    "from operator import attrgetter\n",
    "\n",
    "sorted(hero_classes, key=attrgetter('birthyear'))"
   ]
  },
  {
   "cell_type": "code",
   "execution_count": 88,
   "metadata": {
    "collapsed": false
   },
   "outputs": [
    {
     "data": {
      "text/plain": [
       "[('batman', 'bruce', 'wayne', 1972),\n",
       " ('wonder woman', 'diana', 'prince', 1974),\n",
       " ('hellblazer', 'john', 'constantine', 1975),\n",
       " ('martian manhunter', 'john', 'jones', 1972)]"
      ]
     },
     "execution_count": 88,
     "metadata": {},
     "output_type": "execute_result"
    }
   ],
   "source": [
    "sorted(heroes, key=itemgetter(1, 2))"
   ]
  },
  {
   "cell_type": "code",
   "execution_count": 89,
   "metadata": {
    "collapsed": false
   },
   "outputs": [
    {
     "data": {
      "text/plain": [
       "[('batman', 'bruce', 'wayne', 1972),\n",
       " ('wonder woman', 'diana', 'prince', 1974),\n",
       " ('martian manhunter', 'john', 'jones', 1972),\n",
       " ('hellblazer', 'john', 'constantine', 1975)]"
      ]
     },
     "execution_count": 89,
     "metadata": {},
     "output_type": "execute_result"
    }
   ],
   "source": [
    "sorted(heroes, key=itemgetter(1, 3))"
   ]
  },
  {
   "cell_type": "code",
   "execution_count": 94,
   "metadata": {
    "collapsed": false
   },
   "outputs": [
    {
     "data": {
      "text/plain": [
       "[('hellblazer', 'john', 'constantine', 1975),\n",
       " ('wonder woman', 'diana', 'prince', 1974),\n",
       " ('batman', 'bruce', 'wayne', 1972),\n",
       " ('martian manhunter', 'john', 'jones', 1972)]"
      ]
     },
     "execution_count": 94,
     "metadata": {},
     "output_type": "execute_result"
    }
   ],
   "source": [
    "sorted(hero_classes, key=attrgetter('birthyear', 'lname'), reverse=True)"
   ]
  },
  {
   "cell_type": "code",
   "execution_count": 96,
   "metadata": {
    "collapsed": false
   },
   "outputs": [
    {
     "data": {
      "text/plain": [
       "[('hellblazer', 'john', 'constantine', 1975),\n",
       " ('wonder woman', 'diana', 'prince', 1974),\n",
       " ('batman', 'bruce', 'wayne', 1972),\n",
       " ('martian manhunter', 'john', 'jones', 1972)]"
      ]
     },
     "execution_count": 96,
     "metadata": {},
     "output_type": "execute_result"
    }
   ],
   "source": [
    "from operator import methodcaller\n",
    "\n",
    "sorted(hero_classes, key=methodcaller('age'))"
   ]
  },
  {
   "cell_type": "code",
   "execution_count": 103,
   "metadata": {
    "collapsed": false
   },
   "outputs": [],
   "source": [
    "heroes_by_age = sorted(hero_classes, key=attrgetter('fname'), reverse=True)\n",
    "# heroes_by_age = sorted(hero_classes, key=methodcaller('age'))\n",
    "# this is an ascending sort, by default"
   ]
  },
  {
   "cell_type": "code",
   "execution_count": 104,
   "metadata": {
    "collapsed": false
   },
   "outputs": [
    {
     "data": {
      "text/plain": [
       "[('hellblazer', 'john', 'constantine', 1975),\n",
       " ('wonder woman', 'diana', 'prince', 1974),\n",
       " ('martian manhunter', 'john', 'jones', 1972),\n",
       " ('batman', 'bruce', 'wayne', 1972)]"
      ]
     },
     "execution_count": 104,
     "metadata": {},
     "output_type": "execute_result"
    }
   ],
   "source": [
    "sorted(heroes_by_age, key=methodcaller('age'))"
   ]
  },
  {
   "cell_type": "code",
   "execution_count": 108,
   "metadata": {
    "collapsed": false
   },
   "outputs": [],
   "source": [
    "hero_names = ['batman', 'martian manhunter', 'wonder woman', 'hellblazer']\n",
    "\n",
    "vacationdays = {'batman': 25,\n",
    "                'martian manhunter': 15,\n",
    "                'wonder woman': 9,\n",
    "                'hellblazer': 65}"
   ]
  },
  {
   "cell_type": "code",
   "execution_count": 110,
   "metadata": {
    "collapsed": false
   },
   "outputs": [
    {
     "data": {
      "text/plain": [
       "['hellblazer', 'batman', 'martian manhunter', 'wonder woman']"
      ]
     },
     "execution_count": 110,
     "metadata": {},
     "output_type": "execute_result"
    }
   ],
   "source": [
    "sorted(hero_names, key=vacationdays.__getitem__, reverse=True)"
   ]
  }
 ],
 "metadata": {
  "anaconda-cloud": {},
  "kernelspec": {
   "display_name": "Python [conda env:misc]",
   "language": "python",
   "name": "conda-env-misc-py"
  },
  "language_info": {
   "codemirror_mode": {
    "name": "ipython",
    "version": 3
   },
   "file_extension": ".py",
   "mimetype": "text/x-python",
   "name": "python",
   "nbconvert_exporter": "python",
   "pygments_lexer": "ipython3",
   "version": "3.5.2"
  }
 },
 "nbformat": 4,
 "nbformat_minor": 1
}
